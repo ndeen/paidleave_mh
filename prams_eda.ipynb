{
 "cells": [
  {
   "cell_type": "code",
   "execution_count": 1,
   "metadata": {},
   "outputs": [],
   "source": [
    "%matplotlib inline\n",
    "\n",
    "import pandas as pd\n",
    "import numpy as np\n",
    "import pyreadstat\n",
    "import os\n",
    "#from ydata_profiling import ProfileReport\n",
    "import datetime as dt\n",
    "import matplotlib.pyplot as plt\n",
    "\n",
    "%matplotlib inline\n",
    "\n",
    "pd.options.display.max_columns = None\n",
    "pd.set_option('display.expand_frame_repr', False)\n",
    "pd.set_option('display.max_rows', None)\n",
    "pd.set_option('display.max_columns', 500)\n",
    "pd.set_option('display.width', 1000)"
   ]
  },
  {
   "cell_type": "code",
   "execution_count": 4,
   "metadata": {},
   "outputs": [
    {
     "name": "stdout",
     "output_type": "stream",
     "text": [
      "/Users/ndeen/git/paidleave_mh\n",
      "/Users/ndeen/git/paidleave_mh/data/prams_standard_phase8.sas7bdat\n"
     ]
    }
   ],
   "source": [
    "cwd = os.getcwd()\n",
    "print(cwd)\n",
    "filepath = cwd+r\"/data/prams_standard_phase8.sas7bdat\"\n",
    "print(filepath)"
   ]
  },
  {
   "cell_type": "markdown",
   "metadata": {},
   "source": [
    "#### Data Exploration"
   ]
  },
  {
   "cell_type": "markdown",
   "metadata": {},
   "source": [
    "Standard"
   ]
  },
  {
   "cell_type": "code",
   "execution_count": 5,
   "metadata": {},
   "outputs": [],
   "source": [
    "# import the dataset\n",
    "df_s, meta = pyreadstat.read_sas7bdat(filepath)"
   ]
  },
  {
   "cell_type": "code",
   "execution_count": 6,
   "metadata": {},
   "outputs": [],
   "source": [
    "# profile the dataset\n",
    "#s_profile = ProfileReport(df_s, title=\"Profiling Report\", minimal=True)\n",
    "#s_profile.to_file(\"profiles/s_profile.html\")"
   ]
  },
  {
   "cell_type": "markdown",
   "metadata": {},
   "source": [
    "**Relevant lit**:\n",
    "\n",
    "* Analysis of brief screening tools for the detection of postpartum depression: Comparisons of the PRAMS 6-item instrument, PHQ-9, and structured interviews (https://www.ncbi.nlm.nih.gov/pmc/articles/PMC3722286/)\n",
    "\n",
    "* \"Postpartum depression was defined as responses of “often” or “always” to two questions: “Since your baby was born, how often have you felt down, depressed, or hopeless?” and “Since your new baby was born, how often have you had little interest or little pleasure in doing things?”.\" (https://www.nmhealth.org/data/view/maternal/2436/)\n"
   ]
  },
  {
   "cell_type": "code",
   "execution_count": 7,
   "metadata": {},
   "outputs": [],
   "source": [
    "# identify variables of interest\n",
    "voi = [\n",
    "    'ID',\n",
    "    'HISPANIC',\n",
    "    'STATE',\n",
    "    'MAT_RACE_PU',\n",
    "    'YY4_DOB',\n",
    "    'MH_PPDPR',\n",
    "    'MH_PPINT',\n",
    "]"
   ]
  },
  {
   "cell_type": "code",
   "execution_count": 8,
   "metadata": {},
   "outputs": [
    {
     "data": {
      "text/html": [
       "<div>\n",
       "<style scoped>\n",
       "    .dataframe tbody tr th:only-of-type {\n",
       "        vertical-align: middle;\n",
       "    }\n",
       "\n",
       "    .dataframe tbody tr th {\n",
       "        vertical-align: top;\n",
       "    }\n",
       "\n",
       "    .dataframe thead th {\n",
       "        text-align: right;\n",
       "    }\n",
       "</style>\n",
       "<table border=\"1\" class=\"dataframe\">\n",
       "  <thead>\n",
       "    <tr style=\"text-align: right;\">\n",
       "      <th></th>\n",
       "      <th>ID</th>\n",
       "      <th>HISPANIC</th>\n",
       "      <th>STATE</th>\n",
       "      <th>MAT_RACE_PU</th>\n",
       "      <th>YY4_DOB</th>\n",
       "      <th>MH_PPDPR</th>\n",
       "      <th>MH_PPINT</th>\n",
       "    </tr>\n",
       "  </thead>\n",
       "  <tbody>\n",
       "    <tr>\n",
       "      <th>0</th>\n",
       "      <td>2016AK327002</td>\n",
       "      <td>1.0</td>\n",
       "      <td>AK</td>\n",
       "      <td>NaN</td>\n",
       "      <td>2016.0</td>\n",
       "      <td>5.0</td>\n",
       "      <td>2.0</td>\n",
       "    </tr>\n",
       "    <tr>\n",
       "      <th>1</th>\n",
       "      <td>2016AK327006</td>\n",
       "      <td>1.0</td>\n",
       "      <td>AK</td>\n",
       "      <td>NaN</td>\n",
       "      <td>2016.0</td>\n",
       "      <td>3.0</td>\n",
       "      <td>4.0</td>\n",
       "    </tr>\n",
       "    <tr>\n",
       "      <th>2</th>\n",
       "      <td>2016AK327007</td>\n",
       "      <td>1.0</td>\n",
       "      <td>AK</td>\n",
       "      <td>NaN</td>\n",
       "      <td>2016.0</td>\n",
       "      <td>3.0</td>\n",
       "      <td>3.0</td>\n",
       "    </tr>\n",
       "    <tr>\n",
       "      <th>3</th>\n",
       "      <td>2016AK327009</td>\n",
       "      <td>1.0</td>\n",
       "      <td>AK</td>\n",
       "      <td>NaN</td>\n",
       "      <td>2016.0</td>\n",
       "      <td>5.0</td>\n",
       "      <td>5.0</td>\n",
       "    </tr>\n",
       "    <tr>\n",
       "      <th>4</th>\n",
       "      <td>2016AK327010</td>\n",
       "      <td>1.0</td>\n",
       "      <td>AK</td>\n",
       "      <td>NaN</td>\n",
       "      <td>2016.0</td>\n",
       "      <td>1.0</td>\n",
       "      <td>1.0</td>\n",
       "    </tr>\n",
       "  </tbody>\n",
       "</table>\n",
       "</div>"
      ],
      "text/plain": [
       "             ID  HISPANIC STATE  MAT_RACE_PU  YY4_DOB  MH_PPDPR  MH_PPINT\n",
       "0  2016AK327002       1.0    AK          NaN   2016.0       5.0       2.0\n",
       "1  2016AK327006       1.0    AK          NaN   2016.0       3.0       4.0\n",
       "2  2016AK327007       1.0    AK          NaN   2016.0       3.0       3.0\n",
       "3  2016AK327009       1.0    AK          NaN   2016.0       5.0       5.0\n",
       "4  2016AK327010       1.0    AK          NaN   2016.0       1.0       1.0"
      ]
     },
     "execution_count": 8,
     "metadata": {},
     "output_type": "execute_result"
    }
   ],
   "source": [
    "df_s = df_s[voi]\n",
    "df_s.head()"
   ]
  },
  {
   "cell_type": "code",
   "execution_count": 9,
   "metadata": {},
   "outputs": [],
   "source": [
    "# recode variables for depression\n",
    "\n",
    "# Define the conditions for postpartum depression\n",
    "depression_conditions = ((df_s['MH_PPDPR'] == 1) | (df_s['MH_PPDPR'] == 2)) & ((df_s['MH_PPINT'] == 1) | (df_s['MH_PPINT'] == 2))\n",
    "\n",
    "# Recode the postpartum depression variable\n",
    "df_s['ppd'] = depression_conditions.astype(int)"
   ]
  },
  {
   "cell_type": "code",
   "execution_count": 10,
   "metadata": {},
   "outputs": [
    {
     "data": {
      "text/html": [
       "<div>\n",
       "<style scoped>\n",
       "    .dataframe tbody tr th:only-of-type {\n",
       "        vertical-align: middle;\n",
       "    }\n",
       "\n",
       "    .dataframe tbody tr th {\n",
       "        vertical-align: top;\n",
       "    }\n",
       "\n",
       "    .dataframe thead th {\n",
       "        text-align: right;\n",
       "    }\n",
       "</style>\n",
       "<table border=\"1\" class=\"dataframe\">\n",
       "  <thead>\n",
       "    <tr style=\"text-align: right;\">\n",
       "      <th></th>\n",
       "      <th>ID</th>\n",
       "      <th>HISPANIC</th>\n",
       "      <th>STATE</th>\n",
       "      <th>MAT_RACE_PU</th>\n",
       "      <th>YY4_DOB</th>\n",
       "      <th>MH_PPDPR</th>\n",
       "      <th>MH_PPINT</th>\n",
       "      <th>ppd</th>\n",
       "    </tr>\n",
       "  </thead>\n",
       "  <tbody>\n",
       "    <tr>\n",
       "      <th>0</th>\n",
       "      <td>2016AK327002</td>\n",
       "      <td>1.0</td>\n",
       "      <td>AK</td>\n",
       "      <td>NaN</td>\n",
       "      <td>2016.0</td>\n",
       "      <td>5.0</td>\n",
       "      <td>2.0</td>\n",
       "      <td>0</td>\n",
       "    </tr>\n",
       "    <tr>\n",
       "      <th>1</th>\n",
       "      <td>2016AK327006</td>\n",
       "      <td>1.0</td>\n",
       "      <td>AK</td>\n",
       "      <td>NaN</td>\n",
       "      <td>2016.0</td>\n",
       "      <td>3.0</td>\n",
       "      <td>4.0</td>\n",
       "      <td>0</td>\n",
       "    </tr>\n",
       "    <tr>\n",
       "      <th>2</th>\n",
       "      <td>2016AK327007</td>\n",
       "      <td>1.0</td>\n",
       "      <td>AK</td>\n",
       "      <td>NaN</td>\n",
       "      <td>2016.0</td>\n",
       "      <td>3.0</td>\n",
       "      <td>3.0</td>\n",
       "      <td>0</td>\n",
       "    </tr>\n",
       "    <tr>\n",
       "      <th>3</th>\n",
       "      <td>2016AK327009</td>\n",
       "      <td>1.0</td>\n",
       "      <td>AK</td>\n",
       "      <td>NaN</td>\n",
       "      <td>2016.0</td>\n",
       "      <td>5.0</td>\n",
       "      <td>5.0</td>\n",
       "      <td>0</td>\n",
       "    </tr>\n",
       "    <tr>\n",
       "      <th>4</th>\n",
       "      <td>2016AK327010</td>\n",
       "      <td>1.0</td>\n",
       "      <td>AK</td>\n",
       "      <td>NaN</td>\n",
       "      <td>2016.0</td>\n",
       "      <td>1.0</td>\n",
       "      <td>1.0</td>\n",
       "      <td>1</td>\n",
       "    </tr>\n",
       "  </tbody>\n",
       "</table>\n",
       "</div>"
      ],
      "text/plain": [
       "             ID  HISPANIC STATE  MAT_RACE_PU  YY4_DOB  MH_PPDPR  MH_PPINT  ppd\n",
       "0  2016AK327002       1.0    AK          NaN   2016.0       5.0       2.0    0\n",
       "1  2016AK327006       1.0    AK          NaN   2016.0       3.0       4.0    0\n",
       "2  2016AK327007       1.0    AK          NaN   2016.0       3.0       3.0    0\n",
       "3  2016AK327009       1.0    AK          NaN   2016.0       5.0       5.0    0\n",
       "4  2016AK327010       1.0    AK          NaN   2016.0       1.0       1.0    1"
      ]
     },
     "execution_count": 10,
     "metadata": {},
     "output_type": "execute_result"
    }
   ],
   "source": [
    "df_s.head()"
   ]
  },
  {
   "cell_type": "code",
   "execution_count": 52,
   "metadata": {},
   "outputs": [
    {
     "data": {
      "text/plain": [
       "ppd\n",
       "0    212245\n",
       "1      9136\n",
       "Name: ID, dtype: int64"
      ]
     },
     "execution_count": 52,
     "metadata": {},
     "output_type": "execute_result"
    }
   ],
   "source": [
    "# ppd by mwternal race (1=YES 0=NO)\n",
    "df_s[['ID','ppd']].groupby(['ppd'])['ID'].nunique()"
   ]
  },
  {
   "cell_type": "markdown",
   "metadata": {},
   "source": [
    "Occupational Status"
   ]
  },
  {
   "cell_type": "markdown",
   "metadata": {},
   "source": [
    "Maternity Leave\n",
    " - C4. At any time during your most recent pregnancy, did you work at a job for pay?\n",
    " - C7. Have you returned to the job you had during your most recent pregnancy? Check ONE answer\n",
    "\n",
    "NOTE: C8 requires C7 and C4. If a site adds a site-specific option to C8, insert “I took…” for options such as Family Medical Leave and “I took leave and used…” for options such as Temporary/Short-term Disability Insurance.\n",
    "\n",
    "- C8. Did you take leave from work after your new baby was born?\n",
    "- C9. How did you feel about the amount of time you were able to take off after the birth of your new baby?\n",
    "- C10. Did any of the following things affect your decision about taking leave from work after your new baby was born?\n",
    "- C14. How many weeks or months of leave, in total, did you take or will you take?"
   ]
  },
  {
   "cell_type": "code",
   "execution_count": 21,
   "metadata": {},
   "outputs": [],
   "source": [
    "filepath = r\"/Users/ndeen/git/paidleave_mh/data/phase8_2016_2021_std_c.sas7bdat\"\n",
    "df_c, meta = pyreadstat.read_sas7bdat(filepath)"
   ]
  },
  {
   "cell_type": "code",
   "execution_count": 12,
   "metadata": {},
   "outputs": [],
   "source": [
    "# profile the dataset\n",
    "#c_profile = ProfileReport(df_c, title=\"Profiling Report\", minimal=True)\n",
    "#c_profile.to_file(\"profiles/c_profile.html\")"
   ]
  },
  {
   "cell_type": "code",
   "execution_count": 22,
   "metadata": {},
   "outputs": [
    {
     "data": {
      "text/html": [
       "<div>\n",
       "<style scoped>\n",
       "    .dataframe tbody tr th:only-of-type {\n",
       "        vertical-align: middle;\n",
       "    }\n",
       "\n",
       "    .dataframe tbody tr th {\n",
       "        vertical-align: top;\n",
       "    }\n",
       "\n",
       "    .dataframe thead th {\n",
       "        text-align: right;\n",
       "    }\n",
       "</style>\n",
       "<table border=\"1\" class=\"dataframe\">\n",
       "  <thead>\n",
       "    <tr style=\"text-align: right;\">\n",
       "      <th></th>\n",
       "      <th>ID</th>\n",
       "      <th>WRK_PREG</th>\n",
       "      <th>WRK_TITL_RAW</th>\n",
       "      <th>WRK_DUTY_RAW</th>\n",
       "      <th>WRKRETRN_RAW</th>\n",
       "      <th>WRKPDLV_RAW</th>\n",
       "      <th>WRKUPDLV_RAW</th>\n",
       "      <th>WRKNOLV_RAW</th>\n",
       "      <th>LVAFFORD_RAW</th>\n",
       "      <th>LVAFRAID_RAW</th>\n",
       "      <th>LVWORKLD_RAW</th>\n",
       "      <th>LVUNPAID_RAW</th>\n",
       "      <th>LVNOFLEX_RAW</th>\n",
       "      <th>LVENOUGH_RAW</th>\n",
       "      <th>WRK_TITL</th>\n",
       "      <th>WRK_DUTY</th>\n",
       "      <th>WRKRETRN</th>\n",
       "      <th>WRKPDLV</th>\n",
       "      <th>WRKUPDLV</th>\n",
       "      <th>WRKNOLV</th>\n",
       "      <th>LVAFFORD</th>\n",
       "      <th>LVAFRAID</th>\n",
       "      <th>LVWORKLD</th>\n",
       "      <th>LVUNPAID</th>\n",
       "      <th>LVNOFLEX</th>\n",
       "      <th>LVENOUGH</th>\n",
       "      <th>C_WRKSCH_RAW</th>\n",
       "      <th>CC_WHO6_RAW</th>\n",
       "      <th>CC_OTH6_RAW</th>\n",
       "      <th>CC_FEEL_RAW</th>\n",
       "      <th>LV_AMTU_RAW</th>\n",
       "      <th>LV_AMT_RAW</th>\n",
       "      <th>WRKFEEL_RAW</th>\n",
       "      <th>C_WRKSCH</th>\n",
       "      <th>CC_OTH6</th>\n",
       "      <th>CC_WHO6</th>\n",
       "      <th>CC_FEEL</th>\n",
       "      <th>LV_AMTU</th>\n",
       "      <th>LV_AMT</th>\n",
       "      <th>WRKFEEL</th>\n",
       "      <th>WRKFMLV_RAW</th>\n",
       "      <th>WRKFMLV</th>\n",
       "      <th>WRK_TYPE_RAW</th>\n",
       "      <th>WRK_IDK_RAW</th>\n",
       "      <th>WRK_TYPE</th>\n",
       "      <th>WRK_IDK</th>\n",
       "      <th>WRKYCTDI_RAW</th>\n",
       "      <th>WRKYCTDI</th>\n",
       "      <th>DADLEAVE</th>\n",
       "      <th>DADLEAVE_DK</th>\n",
       "      <th>WRKSCHED_RAW</th>\n",
       "      <th>WRKRETRN_C6_RAW</th>\n",
       "      <th>WRKPDLV_C6_RAW</th>\n",
       "      <th>WRKUPDLV_C6_RAW</th>\n",
       "      <th>WRKNOLV_C6_RAW</th>\n",
       "      <th>LV_AMTU_C6_RAW</th>\n",
       "      <th>LV_AMT_C6_RAW</th>\n",
       "      <th>LVAFFORD_C6_RAW</th>\n",
       "      <th>LVAFRAID_C6_RAW</th>\n",
       "      <th>LVWORKLD_C6_RAW</th>\n",
       "      <th>LVUNPAID_C6_RAW</th>\n",
       "      <th>LVNOFLEX_C6_RAW</th>\n",
       "      <th>LVENOUGH_C6_RAW</th>\n",
       "      <th>WRKSCHED</th>\n",
       "      <th>WRKRETRN_C6</th>\n",
       "      <th>WRKPDLV_C6</th>\n",
       "      <th>WRKUPDLV_C6</th>\n",
       "      <th>WRKNOLV_C6</th>\n",
       "      <th>LV_AMTU_C6</th>\n",
       "      <th>LV_AMT_C6</th>\n",
       "      <th>LVAFFORD_C6</th>\n",
       "      <th>LVAFRAID_C6</th>\n",
       "      <th>LVWORKLD_C6</th>\n",
       "      <th>LVUNPAID_C6</th>\n",
       "      <th>LVNOFLEX_C6</th>\n",
       "      <th>LVENOUGH_C6</th>\n",
       "    </tr>\n",
       "  </thead>\n",
       "  <tbody>\n",
       "    <tr>\n",
       "      <th>0</th>\n",
       "      <td>2016LA232001</td>\n",
       "      <td>2.0</td>\n",
       "      <td>CMA/smoke monitor</td>\n",
       "      <td>Made sure patients was wearing smoke smocks an...</td>\n",
       "      <td>2.0</td>\n",
       "      <td>1.0</td>\n",
       "      <td>2.0</td>\n",
       "      <td>1.0</td>\n",
       "      <td>1.0</td>\n",
       "      <td>1.0</td>\n",
       "      <td>1.0</td>\n",
       "      <td>1.0</td>\n",
       "      <td>1.0</td>\n",
       "      <td>1.0</td>\n",
       "      <td>CMA/smoke monitor</td>\n",
       "      <td>Made sure patients was wearing smoke smocks an...</td>\n",
       "      <td>2.0</td>\n",
       "      <td>1.0</td>\n",
       "      <td>2.0</td>\n",
       "      <td>1.0</td>\n",
       "      <td>1.0</td>\n",
       "      <td>1.0</td>\n",
       "      <td>1.0</td>\n",
       "      <td>1.0</td>\n",
       "      <td>1.0</td>\n",
       "      <td>1.0</td>\n",
       "      <td>NaN</td>\n",
       "      <td>NaN</td>\n",
       "      <td></td>\n",
       "      <td>NaN</td>\n",
       "      <td>NaN</td>\n",
       "      <td>NaN</td>\n",
       "      <td>NaN</td>\n",
       "      <td>NaN</td>\n",
       "      <td></td>\n",
       "      <td>NaN</td>\n",
       "      <td>NaN</td>\n",
       "      <td>NaN</td>\n",
       "      <td>NaN</td>\n",
       "      <td>NaN</td>\n",
       "      <td>NaN</td>\n",
       "      <td>NaN</td>\n",
       "      <td></td>\n",
       "      <td>NaN</td>\n",
       "      <td></td>\n",
       "      <td>NaN</td>\n",
       "      <td>NaN</td>\n",
       "      <td>NaN</td>\n",
       "      <td>NaN</td>\n",
       "      <td>NaN</td>\n",
       "      <td>NaN</td>\n",
       "      <td>NaN</td>\n",
       "      <td>NaN</td>\n",
       "      <td>NaN</td>\n",
       "      <td>NaN</td>\n",
       "      <td>NaN</td>\n",
       "      <td>NaN</td>\n",
       "      <td>NaN</td>\n",
       "      <td>NaN</td>\n",
       "      <td>NaN</td>\n",
       "      <td>NaN</td>\n",
       "      <td>NaN</td>\n",
       "      <td>NaN</td>\n",
       "      <td>NaN</td>\n",
       "      <td>NaN</td>\n",
       "      <td>NaN</td>\n",
       "      <td>NaN</td>\n",
       "      <td>NaN</td>\n",
       "      <td>NaN</td>\n",
       "      <td>NaN</td>\n",
       "      <td>NaN</td>\n",
       "      <td>NaN</td>\n",
       "      <td>NaN</td>\n",
       "      <td>NaN</td>\n",
       "      <td>NaN</td>\n",
       "      <td>NaN</td>\n",
       "    </tr>\n",
       "    <tr>\n",
       "      <th>1</th>\n",
       "      <td>2016LA232002</td>\n",
       "      <td>2.0</td>\n",
       "      <td>Teacher</td>\n",
       "      <td>High school basic courses</td>\n",
       "      <td>3.0</td>\n",
       "      <td>1.0</td>\n",
       "      <td>2.0</td>\n",
       "      <td>1.0</td>\n",
       "      <td>1.0</td>\n",
       "      <td>1.0</td>\n",
       "      <td>1.0</td>\n",
       "      <td>1.0</td>\n",
       "      <td>1.0</td>\n",
       "      <td>1.0</td>\n",
       "      <td>Teacher</td>\n",
       "      <td>High school basic courses</td>\n",
       "      <td>3.0</td>\n",
       "      <td>1.0</td>\n",
       "      <td>2.0</td>\n",
       "      <td>1.0</td>\n",
       "      <td>1.0</td>\n",
       "      <td>1.0</td>\n",
       "      <td>1.0</td>\n",
       "      <td>1.0</td>\n",
       "      <td>1.0</td>\n",
       "      <td>1.0</td>\n",
       "      <td>NaN</td>\n",
       "      <td>NaN</td>\n",
       "      <td></td>\n",
       "      <td>NaN</td>\n",
       "      <td>NaN</td>\n",
       "      <td>NaN</td>\n",
       "      <td>NaN</td>\n",
       "      <td>NaN</td>\n",
       "      <td></td>\n",
       "      <td>NaN</td>\n",
       "      <td>NaN</td>\n",
       "      <td>NaN</td>\n",
       "      <td>NaN</td>\n",
       "      <td>NaN</td>\n",
       "      <td>NaN</td>\n",
       "      <td>NaN</td>\n",
       "      <td></td>\n",
       "      <td>NaN</td>\n",
       "      <td></td>\n",
       "      <td>NaN</td>\n",
       "      <td>NaN</td>\n",
       "      <td>NaN</td>\n",
       "      <td>NaN</td>\n",
       "      <td>NaN</td>\n",
       "      <td>NaN</td>\n",
       "      <td>NaN</td>\n",
       "      <td>NaN</td>\n",
       "      <td>NaN</td>\n",
       "      <td>NaN</td>\n",
       "      <td>NaN</td>\n",
       "      <td>NaN</td>\n",
       "      <td>NaN</td>\n",
       "      <td>NaN</td>\n",
       "      <td>NaN</td>\n",
       "      <td>NaN</td>\n",
       "      <td>NaN</td>\n",
       "      <td>NaN</td>\n",
       "      <td>NaN</td>\n",
       "      <td>NaN</td>\n",
       "      <td>NaN</td>\n",
       "      <td>NaN</td>\n",
       "      <td>NaN</td>\n",
       "      <td>NaN</td>\n",
       "      <td>NaN</td>\n",
       "      <td>NaN</td>\n",
       "      <td>NaN</td>\n",
       "      <td>NaN</td>\n",
       "      <td>NaN</td>\n",
       "      <td>NaN</td>\n",
       "      <td>NaN</td>\n",
       "    </tr>\n",
       "    <tr>\n",
       "      <th>2</th>\n",
       "      <td>2016LA232003</td>\n",
       "      <td>2.0</td>\n",
       "      <td>Accountant</td>\n",
       "      <td>Typing, research on computer, auditing, payrol...</td>\n",
       "      <td>3.0</td>\n",
       "      <td>2.0</td>\n",
       "      <td>2.0</td>\n",
       "      <td>1.0</td>\n",
       "      <td>2.0</td>\n",
       "      <td>1.0</td>\n",
       "      <td>1.0</td>\n",
       "      <td>1.0</td>\n",
       "      <td>1.0</td>\n",
       "      <td>2.0</td>\n",
       "      <td>Accountant</td>\n",
       "      <td>Typing, research on computer, auditing, payrol...</td>\n",
       "      <td>3.0</td>\n",
       "      <td>2.0</td>\n",
       "      <td>2.0</td>\n",
       "      <td>1.0</td>\n",
       "      <td>2.0</td>\n",
       "      <td>1.0</td>\n",
       "      <td>1.0</td>\n",
       "      <td>1.0</td>\n",
       "      <td>1.0</td>\n",
       "      <td>2.0</td>\n",
       "      <td>NaN</td>\n",
       "      <td>NaN</td>\n",
       "      <td></td>\n",
       "      <td>NaN</td>\n",
       "      <td>NaN</td>\n",
       "      <td>NaN</td>\n",
       "      <td>NaN</td>\n",
       "      <td>NaN</td>\n",
       "      <td></td>\n",
       "      <td>NaN</td>\n",
       "      <td>NaN</td>\n",
       "      <td>NaN</td>\n",
       "      <td>NaN</td>\n",
       "      <td>NaN</td>\n",
       "      <td>NaN</td>\n",
       "      <td>NaN</td>\n",
       "      <td></td>\n",
       "      <td>NaN</td>\n",
       "      <td></td>\n",
       "      <td>NaN</td>\n",
       "      <td>NaN</td>\n",
       "      <td>NaN</td>\n",
       "      <td>NaN</td>\n",
       "      <td>NaN</td>\n",
       "      <td>NaN</td>\n",
       "      <td>NaN</td>\n",
       "      <td>NaN</td>\n",
       "      <td>NaN</td>\n",
       "      <td>NaN</td>\n",
       "      <td>NaN</td>\n",
       "      <td>NaN</td>\n",
       "      <td>NaN</td>\n",
       "      <td>NaN</td>\n",
       "      <td>NaN</td>\n",
       "      <td>NaN</td>\n",
       "      <td>NaN</td>\n",
       "      <td>NaN</td>\n",
       "      <td>NaN</td>\n",
       "      <td>NaN</td>\n",
       "      <td>NaN</td>\n",
       "      <td>NaN</td>\n",
       "      <td>NaN</td>\n",
       "      <td>NaN</td>\n",
       "      <td>NaN</td>\n",
       "      <td>NaN</td>\n",
       "      <td>NaN</td>\n",
       "      <td>NaN</td>\n",
       "      <td>NaN</td>\n",
       "      <td>NaN</td>\n",
       "      <td>NaN</td>\n",
       "    </tr>\n",
       "    <tr>\n",
       "      <th>3</th>\n",
       "      <td>2016LA232004</td>\n",
       "      <td>1.0</td>\n",
       "      <td></td>\n",
       "      <td></td>\n",
       "      <td>1.0</td>\n",
       "      <td>NaN</td>\n",
       "      <td>NaN</td>\n",
       "      <td>NaN</td>\n",
       "      <td>NaN</td>\n",
       "      <td>NaN</td>\n",
       "      <td>NaN</td>\n",
       "      <td>NaN</td>\n",
       "      <td>NaN</td>\n",
       "      <td>NaN</td>\n",
       "      <td></td>\n",
       "      <td></td>\n",
       "      <td>NaN</td>\n",
       "      <td>NaN</td>\n",
       "      <td>NaN</td>\n",
       "      <td>NaN</td>\n",
       "      <td>NaN</td>\n",
       "      <td>NaN</td>\n",
       "      <td>NaN</td>\n",
       "      <td>NaN</td>\n",
       "      <td>NaN</td>\n",
       "      <td>NaN</td>\n",
       "      <td>NaN</td>\n",
       "      <td>NaN</td>\n",
       "      <td></td>\n",
       "      <td>NaN</td>\n",
       "      <td>NaN</td>\n",
       "      <td>NaN</td>\n",
       "      <td>NaN</td>\n",
       "      <td>NaN</td>\n",
       "      <td></td>\n",
       "      <td>NaN</td>\n",
       "      <td>NaN</td>\n",
       "      <td>NaN</td>\n",
       "      <td>NaN</td>\n",
       "      <td>NaN</td>\n",
       "      <td>NaN</td>\n",
       "      <td>NaN</td>\n",
       "      <td></td>\n",
       "      <td>NaN</td>\n",
       "      <td></td>\n",
       "      <td>NaN</td>\n",
       "      <td>NaN</td>\n",
       "      <td>NaN</td>\n",
       "      <td>NaN</td>\n",
       "      <td>NaN</td>\n",
       "      <td>NaN</td>\n",
       "      <td>NaN</td>\n",
       "      <td>NaN</td>\n",
       "      <td>NaN</td>\n",
       "      <td>NaN</td>\n",
       "      <td>NaN</td>\n",
       "      <td>NaN</td>\n",
       "      <td>NaN</td>\n",
       "      <td>NaN</td>\n",
       "      <td>NaN</td>\n",
       "      <td>NaN</td>\n",
       "      <td>NaN</td>\n",
       "      <td>NaN</td>\n",
       "      <td>NaN</td>\n",
       "      <td>NaN</td>\n",
       "      <td>NaN</td>\n",
       "      <td>NaN</td>\n",
       "      <td>NaN</td>\n",
       "      <td>NaN</td>\n",
       "      <td>NaN</td>\n",
       "      <td>NaN</td>\n",
       "      <td>NaN</td>\n",
       "      <td>NaN</td>\n",
       "      <td>NaN</td>\n",
       "      <td>NaN</td>\n",
       "      <td>NaN</td>\n",
       "    </tr>\n",
       "    <tr>\n",
       "      <th>4</th>\n",
       "      <td>2016LA232006</td>\n",
       "      <td>2.0</td>\n",
       "      <td>Teller</td>\n",
       "      <td>Money transactions lifting 25 lbs. or more daily</td>\n",
       "      <td>3.0</td>\n",
       "      <td>2.0</td>\n",
       "      <td>1.0</td>\n",
       "      <td>1.0</td>\n",
       "      <td>2.0</td>\n",
       "      <td>2.0</td>\n",
       "      <td>1.0</td>\n",
       "      <td>2.0</td>\n",
       "      <td>2.0</td>\n",
       "      <td>2.0</td>\n",
       "      <td>Teller</td>\n",
       "      <td>Money transactions lifting 25 lbs. or more daily</td>\n",
       "      <td>3.0</td>\n",
       "      <td>2.0</td>\n",
       "      <td>1.0</td>\n",
       "      <td>1.0</td>\n",
       "      <td>2.0</td>\n",
       "      <td>2.0</td>\n",
       "      <td>1.0</td>\n",
       "      <td>2.0</td>\n",
       "      <td>2.0</td>\n",
       "      <td>2.0</td>\n",
       "      <td>NaN</td>\n",
       "      <td>NaN</td>\n",
       "      <td></td>\n",
       "      <td>NaN</td>\n",
       "      <td>NaN</td>\n",
       "      <td>NaN</td>\n",
       "      <td>NaN</td>\n",
       "      <td>NaN</td>\n",
       "      <td></td>\n",
       "      <td>NaN</td>\n",
       "      <td>NaN</td>\n",
       "      <td>NaN</td>\n",
       "      <td>NaN</td>\n",
       "      <td>NaN</td>\n",
       "      <td>NaN</td>\n",
       "      <td>NaN</td>\n",
       "      <td></td>\n",
       "      <td>NaN</td>\n",
       "      <td></td>\n",
       "      <td>NaN</td>\n",
       "      <td>NaN</td>\n",
       "      <td>NaN</td>\n",
       "      <td>NaN</td>\n",
       "      <td>NaN</td>\n",
       "      <td>NaN</td>\n",
       "      <td>NaN</td>\n",
       "      <td>NaN</td>\n",
       "      <td>NaN</td>\n",
       "      <td>NaN</td>\n",
       "      <td>NaN</td>\n",
       "      <td>NaN</td>\n",
       "      <td>NaN</td>\n",
       "      <td>NaN</td>\n",
       "      <td>NaN</td>\n",
       "      <td>NaN</td>\n",
       "      <td>NaN</td>\n",
       "      <td>NaN</td>\n",
       "      <td>NaN</td>\n",
       "      <td>NaN</td>\n",
       "      <td>NaN</td>\n",
       "      <td>NaN</td>\n",
       "      <td>NaN</td>\n",
       "      <td>NaN</td>\n",
       "      <td>NaN</td>\n",
       "      <td>NaN</td>\n",
       "      <td>NaN</td>\n",
       "      <td>NaN</td>\n",
       "      <td>NaN</td>\n",
       "      <td>NaN</td>\n",
       "      <td>NaN</td>\n",
       "    </tr>\n",
       "  </tbody>\n",
       "</table>\n",
       "</div>"
      ],
      "text/plain": [
       "             ID  WRK_PREG       WRK_TITL_RAW                                       WRK_DUTY_RAW  WRKRETRN_RAW  WRKPDLV_RAW  WRKUPDLV_RAW  WRKNOLV_RAW  LVAFFORD_RAW  LVAFRAID_RAW  LVWORKLD_RAW  LVUNPAID_RAW  LVNOFLEX_RAW  LVENOUGH_RAW           WRK_TITL                                           WRK_DUTY  WRKRETRN  WRKPDLV  WRKUPDLV  WRKNOLV  LVAFFORD  LVAFRAID  LVWORKLD  LVUNPAID  LVNOFLEX  LVENOUGH  C_WRKSCH_RAW  CC_WHO6_RAW CC_OTH6_RAW  CC_FEEL_RAW  LV_AMTU_RAW  LV_AMT_RAW  WRKFEEL_RAW  C_WRKSCH CC_OTH6  CC_WHO6  CC_FEEL  LV_AMTU  LV_AMT  WRKFEEL  WRKFMLV_RAW  WRKFMLV WRK_TYPE_RAW  WRK_IDK_RAW WRK_TYPE  WRK_IDK  WRKYCTDI_RAW  WRKYCTDI  DADLEAVE  DADLEAVE_DK  WRKSCHED_RAW  WRKRETRN_C6_RAW  WRKPDLV_C6_RAW  WRKUPDLV_C6_RAW  WRKNOLV_C6_RAW  LV_AMTU_C6_RAW  LV_AMT_C6_RAW  LVAFFORD_C6_RAW  LVAFRAID_C6_RAW  LVWORKLD_C6_RAW  LVUNPAID_C6_RAW  LVNOFLEX_C6_RAW  LVENOUGH_C6_RAW  WRKSCHED  WRKRETRN_C6  WRKPDLV_C6  WRKUPDLV_C6  WRKNOLV_C6  LV_AMTU_C6  LV_AMT_C6  LVAFFORD_C6  LVAFRAID_C6  LVWORKLD_C6  LVUNPAID_C6  LVNOFLEX_C6  LVENOUGH_C6\n",
       "0  2016LA232001       2.0  CMA/smoke monitor  Made sure patients was wearing smoke smocks an...           2.0          1.0           2.0          1.0           1.0           1.0           1.0           1.0           1.0           1.0  CMA/smoke monitor  Made sure patients was wearing smoke smocks an...       2.0      1.0       2.0      1.0       1.0       1.0       1.0       1.0       1.0       1.0           NaN          NaN                      NaN          NaN         NaN          NaN       NaN              NaN      NaN      NaN     NaN      NaN          NaN      NaN                       NaN               NaN           NaN       NaN       NaN          NaN           NaN              NaN             NaN              NaN             NaN             NaN            NaN              NaN              NaN              NaN              NaN              NaN              NaN       NaN          NaN         NaN          NaN         NaN         NaN        NaN          NaN          NaN          NaN          NaN          NaN          NaN\n",
       "1  2016LA232002       2.0            Teacher                          High school basic courses           3.0          1.0           2.0          1.0           1.0           1.0           1.0           1.0           1.0           1.0            Teacher                          High school basic courses       3.0      1.0       2.0      1.0       1.0       1.0       1.0       1.0       1.0       1.0           NaN          NaN                      NaN          NaN         NaN          NaN       NaN              NaN      NaN      NaN     NaN      NaN          NaN      NaN                       NaN               NaN           NaN       NaN       NaN          NaN           NaN              NaN             NaN              NaN             NaN             NaN            NaN              NaN              NaN              NaN              NaN              NaN              NaN       NaN          NaN         NaN          NaN         NaN         NaN        NaN          NaN          NaN          NaN          NaN          NaN          NaN\n",
       "2  2016LA232003       2.0         Accountant  Typing, research on computer, auditing, payrol...           3.0          2.0           2.0          1.0           2.0           1.0           1.0           1.0           1.0           2.0         Accountant  Typing, research on computer, auditing, payrol...       3.0      2.0       2.0      1.0       2.0       1.0       1.0       1.0       1.0       2.0           NaN          NaN                      NaN          NaN         NaN          NaN       NaN              NaN      NaN      NaN     NaN      NaN          NaN      NaN                       NaN               NaN           NaN       NaN       NaN          NaN           NaN              NaN             NaN              NaN             NaN             NaN            NaN              NaN              NaN              NaN              NaN              NaN              NaN       NaN          NaN         NaN          NaN         NaN         NaN        NaN          NaN          NaN          NaN          NaN          NaN          NaN\n",
       "3  2016LA232004       1.0                                                                                 1.0          NaN           NaN          NaN           NaN           NaN           NaN           NaN           NaN           NaN                                                                             NaN      NaN       NaN      NaN       NaN       NaN       NaN       NaN       NaN       NaN           NaN          NaN                      NaN          NaN         NaN          NaN       NaN              NaN      NaN      NaN     NaN      NaN          NaN      NaN                       NaN               NaN           NaN       NaN       NaN          NaN           NaN              NaN             NaN              NaN             NaN             NaN            NaN              NaN              NaN              NaN              NaN              NaN              NaN       NaN          NaN         NaN          NaN         NaN         NaN        NaN          NaN          NaN          NaN          NaN          NaN          NaN\n",
       "4  2016LA232006       2.0             Teller   Money transactions lifting 25 lbs. or more daily           3.0          2.0           1.0          1.0           2.0           2.0           1.0           2.0           2.0           2.0             Teller   Money transactions lifting 25 lbs. or more daily       3.0      2.0       1.0      1.0       2.0       2.0       1.0       2.0       2.0       2.0           NaN          NaN                      NaN          NaN         NaN          NaN       NaN              NaN      NaN      NaN     NaN      NaN          NaN      NaN                       NaN               NaN           NaN       NaN       NaN          NaN           NaN              NaN             NaN              NaN             NaN             NaN            NaN              NaN              NaN              NaN              NaN              NaN              NaN       NaN          NaN         NaN          NaN         NaN         NaN        NaN          NaN          NaN          NaN          NaN          NaN          NaN"
      ]
     },
     "execution_count": 22,
     "metadata": {},
     "output_type": "execute_result"
    }
   ],
   "source": [
    "df_c.head()"
   ]
  },
  {
   "cell_type": "code",
   "execution_count": 23,
   "metadata": {},
   "outputs": [],
   "source": [
    "# c8 - did you take leave from work after your new baby was born?\n",
    "df_c = df_c[[\n",
    "     'ID',\n",
    "     'WRKPDLV', # paid\n",
    "     'WRKUPDLV', # unpaid\n",
    "     'WRKNOLV' # no leave\n",
    "]]"
   ]
  },
  {
   "cell_type": "code",
   "execution_count": 24,
   "metadata": {},
   "outputs": [
    {
     "data": {
      "text/plain": [
       "WRKPDLV\n",
       "1.0    18186\n",
       "2.0    17984\n",
       "Name: ID, dtype: int64"
      ]
     },
     "execution_count": 24,
     "metadata": {},
     "output_type": "execute_result"
    }
   ],
   "source": [
    "# paid leave (1=NO, 2=YES)\n",
    "df_c[['ID','WRKPDLV']].groupby(['WRKPDLV'])['ID'].nunique()"
   ]
  },
  {
   "cell_type": "code",
   "execution_count": 25,
   "metadata": {},
   "outputs": [
    {
     "data": {
      "text/plain": [
       "WRKUPDLV\n",
       "1.0    16430\n",
       "2.0    19736\n",
       "Name: ID, dtype: int64"
      ]
     },
     "execution_count": 25,
     "metadata": {},
     "output_type": "execute_result"
    }
   ],
   "source": [
    "# unpaid leave (1=NO, 2=YES)\n",
    "df_c[['ID','WRKUPDLV']].groupby(['WRKUPDLV'])['ID'].nunique()"
   ]
  },
  {
   "cell_type": "code",
   "execution_count": 26,
   "metadata": {},
   "outputs": [
    {
     "data": {
      "text/plain": [
       "WRKNOLV\n",
       "1.0    34495\n",
       "2.0     1642\n",
       "Name: ID, dtype: int64"
      ]
     },
     "execution_count": 26,
     "metadata": {},
     "output_type": "execute_result"
    }
   ],
   "source": [
    "# no leave (1=NO, 2=YES)\n",
    "df_c[['ID','WRKNOLV']].groupby(['WRKNOLV'])['ID'].nunique()"
   ]
  },
  {
   "cell_type": "code",
   "execution_count": 40,
   "metadata": {},
   "outputs": [],
   "source": [
    "# merge standard and occupational status dataframes \n",
    "merged_df = pd.merge(df_s, df_c, on='ID', how='outer')\n",
    "merged_df = merged_df.drop(columns=['MH_PPDPR', 'MH_PPINT'])"
   ]
  },
  {
   "cell_type": "code",
   "execution_count": 41,
   "metadata": {},
   "outputs": [
    {
     "data": {
      "text/plain": [
       "32113"
      ]
     },
     "execution_count": 41,
     "metadata": {},
     "output_type": "execute_result"
    }
   ],
   "source": [
    "# number of rows without any missing \n",
    "len(merged_df.dropna())"
   ]
  },
  {
   "cell_type": "code",
   "execution_count": 42,
   "metadata": {},
   "outputs": [],
   "source": [
    "cohort = merged_df.dropna()"
   ]
  },
  {
   "cell_type": "code",
   "execution_count": 43,
   "metadata": {},
   "outputs": [
    {
     "data": {
      "text/html": [
       "<div>\n",
       "<style scoped>\n",
       "    .dataframe tbody tr th:only-of-type {\n",
       "        vertical-align: middle;\n",
       "    }\n",
       "\n",
       "    .dataframe tbody tr th {\n",
       "        vertical-align: top;\n",
       "    }\n",
       "\n",
       "    .dataframe thead th {\n",
       "        text-align: right;\n",
       "    }\n",
       "</style>\n",
       "<table border=\"1\" class=\"dataframe\">\n",
       "  <thead>\n",
       "    <tr style=\"text-align: right;\">\n",
       "      <th></th>\n",
       "      <th>ID</th>\n",
       "      <th>HISPANIC</th>\n",
       "      <th>STATE</th>\n",
       "      <th>MAT_RACE_PU</th>\n",
       "      <th>YY4_DOB</th>\n",
       "      <th>ppd</th>\n",
       "      <th>WRKPDLV</th>\n",
       "      <th>WRKUPDLV</th>\n",
       "      <th>WRKNOLV</th>\n",
       "    </tr>\n",
       "  </thead>\n",
       "  <tbody>\n",
       "    <tr>\n",
       "      <th>8075</th>\n",
       "      <td>2016LA232001</td>\n",
       "      <td>1.0</td>\n",
       "      <td>LA</td>\n",
       "      <td>3.0</td>\n",
       "      <td>2016.0</td>\n",
       "      <td>0</td>\n",
       "      <td>1.0</td>\n",
       "      <td>2.0</td>\n",
       "      <td>1.0</td>\n",
       "    </tr>\n",
       "    <tr>\n",
       "      <th>8076</th>\n",
       "      <td>2016LA232002</td>\n",
       "      <td>1.0</td>\n",
       "      <td>LA</td>\n",
       "      <td>3.0</td>\n",
       "      <td>2016.0</td>\n",
       "      <td>0</td>\n",
       "      <td>1.0</td>\n",
       "      <td>2.0</td>\n",
       "      <td>1.0</td>\n",
       "    </tr>\n",
       "    <tr>\n",
       "      <th>8077</th>\n",
       "      <td>2016LA232003</td>\n",
       "      <td>1.0</td>\n",
       "      <td>LA</td>\n",
       "      <td>3.0</td>\n",
       "      <td>2016.0</td>\n",
       "      <td>0</td>\n",
       "      <td>2.0</td>\n",
       "      <td>2.0</td>\n",
       "      <td>1.0</td>\n",
       "    </tr>\n",
       "    <tr>\n",
       "      <th>8079</th>\n",
       "      <td>2016LA232006</td>\n",
       "      <td>1.0</td>\n",
       "      <td>LA</td>\n",
       "      <td>3.0</td>\n",
       "      <td>2016.0</td>\n",
       "      <td>0</td>\n",
       "      <td>2.0</td>\n",
       "      <td>1.0</td>\n",
       "      <td>1.0</td>\n",
       "    </tr>\n",
       "    <tr>\n",
       "      <th>8080</th>\n",
       "      <td>2016LA232007</td>\n",
       "      <td>1.0</td>\n",
       "      <td>LA</td>\n",
       "      <td>3.0</td>\n",
       "      <td>2016.0</td>\n",
       "      <td>0</td>\n",
       "      <td>2.0</td>\n",
       "      <td>2.0</td>\n",
       "      <td>1.0</td>\n",
       "    </tr>\n",
       "  </tbody>\n",
       "</table>\n",
       "</div>"
      ],
      "text/plain": [
       "                ID  HISPANIC STATE  MAT_RACE_PU  YY4_DOB  ppd  WRKPDLV  WRKUPDLV  WRKNOLV\n",
       "8075  2016LA232001       1.0    LA          3.0   2016.0    0      1.0       2.0      1.0\n",
       "8076  2016LA232002       1.0    LA          3.0   2016.0    0      1.0       2.0      1.0\n",
       "8077  2016LA232003       1.0    LA          3.0   2016.0    0      2.0       2.0      1.0\n",
       "8079  2016LA232006       1.0    LA          3.0   2016.0    0      2.0       1.0      1.0\n",
       "8080  2016LA232007       1.0    LA          3.0   2016.0    0      2.0       2.0      1.0"
      ]
     },
     "execution_count": 43,
     "metadata": {},
     "output_type": "execute_result"
    }
   ],
   "source": [
    "cohort.head()"
   ]
  },
  {
   "cell_type": "code",
   "execution_count": 44,
   "metadata": {},
   "outputs": [
    {
     "data": {
      "text/plain": [
       "array(['LA', 'MA', 'MD', 'MO', 'NH', 'NM', 'NY', 'WI', 'YC', 'OR', 'TN'],\n",
       "      dtype=object)"
      ]
     },
     "execution_count": 44,
     "metadata": {},
     "output_type": "execute_result"
    }
   ],
   "source": [
    "cohort['STATE'].unique()"
   ]
  },
  {
   "cell_type": "code",
   "execution_count": 46,
   "metadata": {},
   "outputs": [
    {
     "data": {
      "text/plain": [
       "array([2016., 2017., 2018., 2019., 2020., 2021.])"
      ]
     },
     "execution_count": 46,
     "metadata": {},
     "output_type": "execute_result"
    }
   ],
   "source": [
    "cohort['YY4_DOB'].unique()"
   ]
  },
  {
   "cell_type": "code",
   "execution_count": 49,
   "metadata": {},
   "outputs": [
    {
     "data": {
      "text/plain": [
       "WRKPDLV\n",
       "1.0    16237\n",
       "2.0    15876\n",
       "Name: ID, dtype: int64"
      ]
     },
     "execution_count": 49,
     "metadata": {},
     "output_type": "execute_result"
    }
   ],
   "source": [
    "# sample size with the treatment (paid leave, 1=NO, 2=YES)\n",
    "cohort.groupby(['WRKPDLV'])['ID'].nunique()"
   ]
  },
  {
   "cell_type": "code",
   "execution_count": 50,
   "metadata": {},
   "outputs": [
    {
     "data": {
      "text/plain": [
       "WRKUPDLV\n",
       "1.0    14739\n",
       "2.0    17374\n",
       "Name: ID, dtype: int64"
      ]
     },
     "execution_count": 50,
     "metadata": {},
     "output_type": "execute_result"
    }
   ],
   "source": [
    "# sample size with the treatment (unpaid leave, 1=NO, 2=YES)\n",
    "cohort.groupby(['WRKUPDLV'])['ID'].nunique()"
   ]
  },
  {
   "cell_type": "code",
   "execution_count": 51,
   "metadata": {},
   "outputs": [
    {
     "data": {
      "text/plain": [
       "WRKNOLV\n",
       "1.0    30612\n",
       "2.0     1501\n",
       "Name: ID, dtype: int64"
      ]
     },
     "execution_count": 51,
     "metadata": {},
     "output_type": "execute_result"
    }
   ],
   "source": [
    "# sample size with the treatment (no leave, 1=NO, 2=YES)\n",
    "cohort.groupby(['WRKNOLV'])['ID'].nunique()"
   ]
  },
  {
   "cell_type": "markdown",
   "metadata": {},
   "source": [
    "Mental Health"
   ]
  },
  {
   "cell_type": "code",
   "execution_count": 17,
   "metadata": {},
   "outputs": [],
   "source": [
    "filepath = r\"C:\\Users\\Nigel\\OneDrive\\1_GradSchool\\4_Dissertation\\1_paidleave_mhdisparities\\PRAMS  Phase 8 Standard May 22 2024\\Mental Health\\phase8_2016_2021_std_m.sas7bdat\"\n",
    "df_m, meta = pyreadstat.read_sas7bdat(filepath)"
   ]
  },
  {
   "cell_type": "code",
   "execution_count": 18,
   "metadata": {},
   "outputs": [
    {
     "name": "stderr",
     "output_type": "stream",
     "text": [
      "Summarize dataset: 100%|██████████| 31/31 [00:00<00:00, 33.51it/s, Completed]                      \n",
      "Generate report structure: 100%|██████████| 1/1 [00:02<00:00,  2.92s/it]\n",
      "Render HTML: 100%|██████████| 1/1 [00:00<00:00,  3.03it/s]\n",
      "Export report to file: 100%|██████████| 1/1 [00:00<00:00, 499.74it/s]\n"
     ]
    }
   ],
   "source": [
    "# profile the dataset\n",
    "m_profile = ProfileReport(df_m, title=\"Profiling Report\", minimal=True)\n",
    "m_profile.to_file(\"profiles/m_profile.html\")"
   ]
  },
  {
   "cell_type": "code",
   "execution_count": 19,
   "metadata": {},
   "outputs": [
    {
     "data": {
      "text/html": [
       "<div>\n",
       "<style scoped>\n",
       "    .dataframe tbody tr th:only-of-type {\n",
       "        vertical-align: middle;\n",
       "    }\n",
       "\n",
       "    .dataframe tbody tr th {\n",
       "        vertical-align: top;\n",
       "    }\n",
       "\n",
       "    .dataframe thead th {\n",
       "        text-align: right;\n",
       "    }\n",
       "</style>\n",
       "<table border=\"1\" class=\"dataframe\">\n",
       "  <thead>\n",
       "    <tr style=\"text-align: right;\">\n",
       "      <th></th>\n",
       "      <th>ID</th>\n",
       "      <th>MH_PPDX</th>\n",
       "      <th>MH_PPRX_RAW</th>\n",
       "      <th>MH_PPRX</th>\n",
       "      <th>MH_PPHLP</th>\n",
       "      <th>MH_PPPSY_RAW</th>\n",
       "      <th>MH_PPPSY</th>\n",
       "      <th>PP_PANIC</th>\n",
       "      <th>PP_NREST</th>\n",
       "      <th>MH_PGRX8_RAW</th>\n",
       "      <th>MH_PGRX8</th>\n",
       "      <th>MH_PGHP8_RAW</th>\n",
       "      <th>MH_PGHP8</th>\n",
       "      <th>MH_HDANX</th>\n",
       "      <th>MH_RXANX_RAW</th>\n",
       "      <th>MH_RXANX</th>\n",
       "      <th>DEPR_TLK</th>\n",
       "      <th>MH_PGPSY8_RAW</th>\n",
       "      <th>MH_PREG</th>\n",
       "      <th>MH_PGPSY8</th>\n",
       "      <th>MH_ANXHP</th>\n",
       "      <th>MH_PGANX</th>\n",
       "      <th>MH_ANX</th>\n",
       "      <th>MH_ANXCN_RAW</th>\n",
       "      <th>MH_ANXCN</th>\n",
       "    </tr>\n",
       "  </thead>\n",
       "  <tbody>\n",
       "    <tr>\n",
       "      <th>0</th>\n",
       "      <td>2016CO224001</td>\n",
       "      <td>1.0</td>\n",
       "      <td>NaN</td>\n",
       "      <td>NaN</td>\n",
       "      <td>NaN</td>\n",
       "      <td>NaN</td>\n",
       "      <td>NaN</td>\n",
       "      <td>NaN</td>\n",
       "      <td>NaN</td>\n",
       "      <td>NaN</td>\n",
       "      <td>NaN</td>\n",
       "      <td>NaN</td>\n",
       "      <td>NaN</td>\n",
       "      <td>NaN</td>\n",
       "      <td>NaN</td>\n",
       "      <td>NaN</td>\n",
       "      <td>NaN</td>\n",
       "      <td>NaN</td>\n",
       "      <td>NaN</td>\n",
       "      <td>NaN</td>\n",
       "      <td>NaN</td>\n",
       "      <td>NaN</td>\n",
       "      <td>NaN</td>\n",
       "      <td>NaN</td>\n",
       "      <td>NaN</td>\n",
       "    </tr>\n",
       "    <tr>\n",
       "      <th>1</th>\n",
       "      <td>2016CO224003</td>\n",
       "      <td>1.0</td>\n",
       "      <td>NaN</td>\n",
       "      <td>NaN</td>\n",
       "      <td>NaN</td>\n",
       "      <td>NaN</td>\n",
       "      <td>NaN</td>\n",
       "      <td>NaN</td>\n",
       "      <td>NaN</td>\n",
       "      <td>NaN</td>\n",
       "      <td>NaN</td>\n",
       "      <td>NaN</td>\n",
       "      <td>NaN</td>\n",
       "      <td>NaN</td>\n",
       "      <td>NaN</td>\n",
       "      <td>NaN</td>\n",
       "      <td>NaN</td>\n",
       "      <td>NaN</td>\n",
       "      <td>NaN</td>\n",
       "      <td>NaN</td>\n",
       "      <td>NaN</td>\n",
       "      <td>NaN</td>\n",
       "      <td>NaN</td>\n",
       "      <td>NaN</td>\n",
       "      <td>NaN</td>\n",
       "    </tr>\n",
       "    <tr>\n",
       "      <th>2</th>\n",
       "      <td>2016CO224006</td>\n",
       "      <td>1.0</td>\n",
       "      <td>NaN</td>\n",
       "      <td>NaN</td>\n",
       "      <td>NaN</td>\n",
       "      <td>NaN</td>\n",
       "      <td>NaN</td>\n",
       "      <td>NaN</td>\n",
       "      <td>NaN</td>\n",
       "      <td>NaN</td>\n",
       "      <td>NaN</td>\n",
       "      <td>NaN</td>\n",
       "      <td>NaN</td>\n",
       "      <td>NaN</td>\n",
       "      <td>NaN</td>\n",
       "      <td>NaN</td>\n",
       "      <td>NaN</td>\n",
       "      <td>NaN</td>\n",
       "      <td>NaN</td>\n",
       "      <td>NaN</td>\n",
       "      <td>NaN</td>\n",
       "      <td>NaN</td>\n",
       "      <td>NaN</td>\n",
       "      <td>NaN</td>\n",
       "      <td>NaN</td>\n",
       "    </tr>\n",
       "    <tr>\n",
       "      <th>3</th>\n",
       "      <td>2016CO224007</td>\n",
       "      <td>1.0</td>\n",
       "      <td>NaN</td>\n",
       "      <td>NaN</td>\n",
       "      <td>NaN</td>\n",
       "      <td>NaN</td>\n",
       "      <td>NaN</td>\n",
       "      <td>NaN</td>\n",
       "      <td>NaN</td>\n",
       "      <td>NaN</td>\n",
       "      <td>NaN</td>\n",
       "      <td>NaN</td>\n",
       "      <td>NaN</td>\n",
       "      <td>NaN</td>\n",
       "      <td>NaN</td>\n",
       "      <td>NaN</td>\n",
       "      <td>NaN</td>\n",
       "      <td>NaN</td>\n",
       "      <td>NaN</td>\n",
       "      <td>NaN</td>\n",
       "      <td>NaN</td>\n",
       "      <td>NaN</td>\n",
       "      <td>NaN</td>\n",
       "      <td>NaN</td>\n",
       "      <td>NaN</td>\n",
       "    </tr>\n",
       "    <tr>\n",
       "      <th>4</th>\n",
       "      <td>2016CO224009</td>\n",
       "      <td>1.0</td>\n",
       "      <td>NaN</td>\n",
       "      <td>NaN</td>\n",
       "      <td>NaN</td>\n",
       "      <td>NaN</td>\n",
       "      <td>NaN</td>\n",
       "      <td>NaN</td>\n",
       "      <td>NaN</td>\n",
       "      <td>NaN</td>\n",
       "      <td>NaN</td>\n",
       "      <td>NaN</td>\n",
       "      <td>NaN</td>\n",
       "      <td>NaN</td>\n",
       "      <td>NaN</td>\n",
       "      <td>NaN</td>\n",
       "      <td>NaN</td>\n",
       "      <td>NaN</td>\n",
       "      <td>NaN</td>\n",
       "      <td>NaN</td>\n",
       "      <td>NaN</td>\n",
       "      <td>NaN</td>\n",
       "      <td>NaN</td>\n",
       "      <td>NaN</td>\n",
       "      <td>NaN</td>\n",
       "    </tr>\n",
       "  </tbody>\n",
       "</table>\n",
       "</div>"
      ],
      "text/plain": [
       "             ID  MH_PPDX  MH_PPRX_RAW  MH_PPRX  MH_PPHLP  MH_PPPSY_RAW  MH_PPPSY  PP_PANIC  PP_NREST  MH_PGRX8_RAW  MH_PGRX8  MH_PGHP8_RAW  MH_PGHP8  MH_HDANX  MH_RXANX_RAW  MH_RXANX  DEPR_TLK  MH_PGPSY8_RAW  MH_PREG  MH_PGPSY8  MH_ANXHP  MH_PGANX  MH_ANX  MH_ANXCN_RAW  MH_ANXCN\n",
       "0  2016CO224001      1.0          NaN      NaN       NaN           NaN       NaN       NaN       NaN           NaN       NaN           NaN       NaN       NaN           NaN       NaN       NaN            NaN      NaN        NaN       NaN       NaN     NaN           NaN       NaN\n",
       "1  2016CO224003      1.0          NaN      NaN       NaN           NaN       NaN       NaN       NaN           NaN       NaN           NaN       NaN       NaN           NaN       NaN       NaN            NaN      NaN        NaN       NaN       NaN     NaN           NaN       NaN\n",
       "2  2016CO224006      1.0          NaN      NaN       NaN           NaN       NaN       NaN       NaN           NaN       NaN           NaN       NaN       NaN           NaN       NaN       NaN            NaN      NaN        NaN       NaN       NaN     NaN           NaN       NaN\n",
       "3  2016CO224007      1.0          NaN      NaN       NaN           NaN       NaN       NaN       NaN           NaN       NaN           NaN       NaN       NaN           NaN       NaN       NaN            NaN      NaN        NaN       NaN       NaN     NaN           NaN       NaN\n",
       "4  2016CO224009      1.0          NaN      NaN       NaN           NaN       NaN       NaN       NaN           NaN       NaN           NaN       NaN       NaN           NaN       NaN       NaN            NaN      NaN        NaN       NaN       NaN     NaN           NaN       NaN"
      ]
     },
     "execution_count": 19,
     "metadata": {},
     "output_type": "execute_result"
    }
   ],
   "source": [
    "df_m.head()"
   ]
  },
  {
   "cell_type": "code",
   "execution_count": 20,
   "metadata": {},
   "outputs": [],
   "source": [
    "df_m = df_m[[\n",
    "     'ID',\n",
    "     'MH_PPDX', # M5. Since your new baby was born, has a healthcare provider told you that you had depression? 1=NO, 2=YES\n",
    "     'MH_ANX', # M15. Since your new baby was born, has a healthcare provider told you that you had anxiety? 1=NO, 2=YES\n",
    "]]"
   ]
  },
  {
   "cell_type": "code",
   "execution_count": 21,
   "metadata": {},
   "outputs": [
    {
     "data": {
      "text/plain": [
       "MH_PPDX\n",
       "1.0    34573\n",
       "2.0     4232\n",
       "Name: ID, dtype: int64"
      ]
     },
     "execution_count": 21,
     "metadata": {},
     "output_type": "execute_result"
    }
   ],
   "source": [
    "# depression\n",
    "df_m[['ID','MH_PPDX']].groupby(['MH_PPDX'])['ID'].nunique()"
   ]
  },
  {
   "cell_type": "code",
   "execution_count": 22,
   "metadata": {},
   "outputs": [
    {
     "name": "stdout",
     "output_type": "stream",
     "text": [
      "Percent missing a depression answer: 52.55\n"
     ]
    }
   ],
   "source": [
    "print(\"Percent missing a depression answer: {}\".format(round(df_m['MH_PPDX'].isnull().sum() / len(df_m) * 100,2)))"
   ]
  },
  {
   "cell_type": "code",
   "execution_count": 23,
   "metadata": {},
   "outputs": [
    {
     "data": {
      "text/plain": [
       "MH_ANX\n",
       "1.0    718\n",
       "2.0     69\n",
       "Name: ID, dtype: int64"
      ]
     },
     "execution_count": 23,
     "metadata": {},
     "output_type": "execute_result"
    }
   ],
   "source": [
    "# anxiety\n",
    "df_m[['ID','MH_ANX']].groupby(['MH_ANX'])['ID'].nunique()"
   ]
  },
  {
   "cell_type": "code",
   "execution_count": 24,
   "metadata": {},
   "outputs": [
    {
     "name": "stdout",
     "output_type": "stream",
     "text": [
      "Percent missing an anxiety answer: 99.04\n"
     ]
    }
   ],
   "source": [
    "print(\"Percent missing an anxiety answer: {}\".format(round(df_m['MH_ANX'].isnull().sum() / len(df_m) * 100,2)))"
   ]
  },
  {
   "cell_type": "code",
   "execution_count": 30,
   "metadata": {},
   "outputs": [],
   "source": [
    "df_m = df_m[[\n",
    "     'ID',\n",
    "     'MH_PPDX', # M5. Since your new baby was born, has a healthcare provider told you that you had depression? 1=NO, 2=YES\n",
    "]]"
   ]
  },
  {
   "cell_type": "markdown",
   "metadata": {},
   "source": [
    "Merge to see the crosstabs b/w leave status and depression diagnoses"
   ]
  },
  {
   "cell_type": "code",
   "execution_count": 31,
   "metadata": {},
   "outputs": [],
   "source": [
    "# First, merge df_s and df_m on 'ID'\n",
    "merged_df = pd.merge(df_s, df_m, on='ID', how='outer')"
   ]
  },
  {
   "cell_type": "code",
   "execution_count": 32,
   "metadata": {},
   "outputs": [],
   "source": [
    "# Then, merge the resulting DataFrame with df_c on 'ID'\n",
    "merged_df = pd.merge(merged_df, df_c, on='ID', how='outer')"
   ]
  },
  {
   "cell_type": "code",
   "execution_count": 34,
   "metadata": {},
   "outputs": [
    {
     "data": {
      "text/html": [
       "<div>\n",
       "<style scoped>\n",
       "    .dataframe tbody tr th:only-of-type {\n",
       "        vertical-align: middle;\n",
       "    }\n",
       "\n",
       "    .dataframe tbody tr th {\n",
       "        vertical-align: top;\n",
       "    }\n",
       "\n",
       "    .dataframe thead th {\n",
       "        text-align: right;\n",
       "    }\n",
       "</style>\n",
       "<table border=\"1\" class=\"dataframe\">\n",
       "  <thead>\n",
       "    <tr style=\"text-align: right;\">\n",
       "      <th></th>\n",
       "      <th>ID</th>\n",
       "      <th>HISPANIC</th>\n",
       "      <th>STATE</th>\n",
       "      <th>MAT_RACE_PU</th>\n",
       "      <th>YY4_DOB</th>\n",
       "      <th>MH_PPDX</th>\n",
       "      <th>WRKPDLV</th>\n",
       "      <th>WRKUPDLV</th>\n",
       "      <th>WRKNOLV</th>\n",
       "    </tr>\n",
       "  </thead>\n",
       "  <tbody>\n",
       "    <tr>\n",
       "      <th>16417</th>\n",
       "      <td>2016NH038002</td>\n",
       "      <td>1.0</td>\n",
       "      <td>NH</td>\n",
       "      <td>2.0</td>\n",
       "      <td>2016.0</td>\n",
       "      <td>1.0</td>\n",
       "      <td>1.0</td>\n",
       "      <td>2.0</td>\n",
       "      <td>1.0</td>\n",
       "    </tr>\n",
       "    <tr>\n",
       "      <th>16418</th>\n",
       "      <td>2016NH038003</td>\n",
       "      <td>1.0</td>\n",
       "      <td>NH</td>\n",
       "      <td>2.0</td>\n",
       "      <td>2016.0</td>\n",
       "      <td>1.0</td>\n",
       "      <td>2.0</td>\n",
       "      <td>1.0</td>\n",
       "      <td>1.0</td>\n",
       "    </tr>\n",
       "    <tr>\n",
       "      <th>16419</th>\n",
       "      <td>2016NH038005</td>\n",
       "      <td>1.0</td>\n",
       "      <td>NH</td>\n",
       "      <td>2.0</td>\n",
       "      <td>2016.0</td>\n",
       "      <td>1.0</td>\n",
       "      <td>1.0</td>\n",
       "      <td>2.0</td>\n",
       "      <td>1.0</td>\n",
       "    </tr>\n",
       "    <tr>\n",
       "      <th>16420</th>\n",
       "      <td>2016NH038006</td>\n",
       "      <td>1.0</td>\n",
       "      <td>NH</td>\n",
       "      <td>2.0</td>\n",
       "      <td>2016.0</td>\n",
       "      <td>2.0</td>\n",
       "      <td>1.0</td>\n",
       "      <td>2.0</td>\n",
       "      <td>1.0</td>\n",
       "    </tr>\n",
       "    <tr>\n",
       "      <th>16421</th>\n",
       "      <td>2016NH038007</td>\n",
       "      <td>1.0</td>\n",
       "      <td>NH</td>\n",
       "      <td>2.0</td>\n",
       "      <td>2016.0</td>\n",
       "      <td>1.0</td>\n",
       "      <td>2.0</td>\n",
       "      <td>1.0</td>\n",
       "      <td>1.0</td>\n",
       "    </tr>\n",
       "  </tbody>\n",
       "</table>\n",
       "</div>"
      ],
      "text/plain": [
       "                 ID  HISPANIC STATE  MAT_RACE_PU  YY4_DOB  MH_PPDX  WRKPDLV  WRKUPDLV  WRKNOLV\n",
       "16417  2016NH038002       1.0    NH          2.0   2016.0      1.0      1.0       2.0      1.0\n",
       "16418  2016NH038003       1.0    NH          2.0   2016.0      1.0      2.0       1.0      1.0\n",
       "16419  2016NH038005       1.0    NH          2.0   2016.0      1.0      1.0       2.0      1.0\n",
       "16420  2016NH038006       1.0    NH          2.0   2016.0      2.0      1.0       2.0      1.0\n",
       "16421  2016NH038007       1.0    NH          2.0   2016.0      1.0      2.0       1.0      1.0"
      ]
     },
     "execution_count": 34,
     "metadata": {},
     "output_type": "execute_result"
    }
   ],
   "source": [
    "# Drop rows with any NaN values\n",
    "cleaned_df = merged_df.dropna()\n",
    "cleaned_df.head()\n"
   ]
  },
  {
   "cell_type": "code",
   "execution_count": 35,
   "metadata": {},
   "outputs": [
    {
     "data": {
      "text/plain": [
       "7221"
      ]
     },
     "execution_count": 35,
     "metadata": {},
     "output_type": "execute_result"
    }
   ],
   "source": [
    "len(cleaned_df)"
   ]
  },
  {
   "cell_type": "code",
   "execution_count": 36,
   "metadata": {},
   "outputs": [
    {
     "data": {
      "text/plain": [
       "STATE\n",
       "NH    1911\n",
       "NY    1504\n",
       "YC    3806\n",
       "Name: ID, dtype: int64"
      ]
     },
     "execution_count": 36,
     "metadata": {},
     "output_type": "execute_result"
    }
   ],
   "source": [
    "cleaned_df[['ID','STATE']].groupby('STATE')['ID'].nunique()"
   ]
  },
  {
   "cell_type": "markdown",
   "metadata": {},
   "source": [
    "Figure out how to increase the sample (perhaps look at combining categories or removing columns to have fewer null values Ex. combine no leave with unpaid leave? - how have others done this)"
   ]
  },
  {
   "cell_type": "markdown",
   "metadata": {},
   "source": []
  }
 ],
 "metadata": {
  "kernelspec": {
   "display_name": "sandbox",
   "language": "python",
   "name": "python3"
  },
  "language_info": {
   "codemirror_mode": {
    "name": "ipython",
    "version": 3
   },
   "file_extension": ".py",
   "mimetype": "text/x-python",
   "name": "python",
   "nbconvert_exporter": "python",
   "pygments_lexer": "ipython3",
   "version": "3.9.-1"
  }
 },
 "nbformat": 4,
 "nbformat_minor": 2
}
